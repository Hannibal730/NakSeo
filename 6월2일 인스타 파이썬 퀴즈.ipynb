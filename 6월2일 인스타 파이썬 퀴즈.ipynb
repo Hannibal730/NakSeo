{
 "cells": [
  {
   "cell_type": "code",
   "execution_count": 7,
   "metadata": {},
   "outputs": [
    {
     "name": "stdout",
     "output_type": "stream",
     "text": [
      "90\n"
     ]
    }
   ],
   "source": [
    "# 인스타 파이썬 퀴즈 풀어보기\n",
    "\n",
    "class A:                    #5. 부모 클래스의\n",
    "    def __init__(self):     #6. 생성자 내용은\n",
    "        self.calci(30)      #7. 메서드인 calci의 매개변수에 30을 집어넣고     \n",
    "        print (self.i)      #8. self.i를 출력                                 #11. 90출력\n",
    "        \n",
    "    def calci(self,i):\n",
    "        self.i=2*i\n",
    "\n",
    "class B(A):                  #2. 클래스 B는\n",
    "    def __init__(self):      #3. 인스턴스를 만들 때 생성자 불러옴\n",
    "        super().__init__()   #4. 생성자 내용은 부모클래스의 생성자를 불러오는 것이었다.\n",
    "    \n",
    "    def calci(self,i):       #9. def calci는 메서드 오버라이딩으로 인해 여기 것을 사용해야 한다.\n",
    "        self.i=3*i           #10. 그 내용은 self.i=3*i인데, calci의 매개변수가 30이니 i가 30이다. 고로 self.i=90 \n",
    "        \n",
    "b=B()        #1. 클래스B로 인스턴스b 생성 \n"
   ]
  },
  {
   "cell_type": "code",
   "execution_count": null,
   "metadata": {},
   "outputs": [],
   "source": []
  }
 ],
 "metadata": {
  "kernelspec": {
   "display_name": "base",
   "language": "python",
   "name": "python3"
  },
  "language_info": {
   "codemirror_mode": {
    "name": "ipython",
    "version": 3
   },
   "file_extension": ".py",
   "mimetype": "text/x-python",
   "name": "python",
   "nbconvert_exporter": "python",
   "pygments_lexer": "ipython3",
   "version": "3.11.7"
  }
 },
 "nbformat": 4,
 "nbformat_minor": 2
}
