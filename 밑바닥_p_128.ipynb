{
  "nbformat": 4,
  "nbformat_minor": 0,
  "metadata": {
    "colab": {
      "provenance": [],
      "authorship_tag": "ABX9TyN+JFmHe6+UM5xuqMJBgYgE",
      "include_colab_link": true
    },
    "kernelspec": {
      "name": "python3",
      "display_name": "Python 3"
    },
    "language_info": {
      "name": "python"
    }
  },
  "cells": [
    {
      "cell_type": "markdown",
      "metadata": {
        "id": "view-in-github",
        "colab_type": "text"
      },
      "source": [
        "<a href=\"https://colab.research.google.com/github/Hannibal730/NakSeo/blob/main/%EB%B0%91%EB%B0%94%EB%8B%A5_p_128.ipynb\" target=\"_parent\"><img src=\"https://colab.research.google.com/assets/colab-badge.svg\" alt=\"Open In Colab\"/></a>"
      ]
    },
    {
      "cell_type": "code",
      "execution_count": 3,
      "metadata": {
        "colab": {
          "base_uri": "https://localhost:8080/"
        },
        "id": "xTSfy9R2Yjpi",
        "outputId": "8ffb9d25-e6cc-40f0-9580-4db2fc9f3206"
      },
      "outputs": [
        {
          "output_type": "execute_result",
          "data": {
            "text/plain": [
              "array([6., 8.])"
            ]
          },
          "metadata": {},
          "execution_count": 3
        }
      ],
      "source": [
        "def func_2(x):\n",
        "  return x[0]**2 + x[1]**2\n",
        "\n",
        "import numpy as np\n",
        "\n",
        "def numerical_gradient(f,x):\n",
        "    h=1e-4\n",
        "    grad=np.zeros(x.shape)   # 여기에 인덱싱으로 채워가는 것\n",
        "\n",
        "    for idx in range(x.size):\n",
        "      tmp_val =x[idx]\n",
        "      x[idx] = tmp_val + h\n",
        "      fxh1 = f(x)\n",
        "\n",
        "      x[idx] = tmp_val - h\n",
        "      fxh2 = f(x)\n",
        "\n",
        "      grad[idx] = (fxh1 - fxh2) / (2*h)   #인덱싱한 순서의 자리에 위치한 변수로 편미분함.\n",
        "      x[idx] = tmp_val\n",
        "    return grad\n",
        "\n",
        "\n",
        "numerical_gradient(func_2,np.array([3.0,4.0]))\n",
        "\n",
        "\n"
      ]
    },
    {
      "cell_type": "code",
      "source": [],
      "metadata": {
        "id": "IM3xmuuhZP4y"
      },
      "execution_count": null,
      "outputs": []
    }
  ]
}