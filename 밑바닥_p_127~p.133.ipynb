{
  "nbformat": 4,
  "nbformat_minor": 0,
  "metadata": {
    "colab": {
      "provenance": [],
      "authorship_tag": "ABX9TyNdlQmECbV+dqcNyMAU3jyy",
      "include_colab_link": true
    },
    "kernelspec": {
      "name": "python3",
      "display_name": "Python 3"
    },
    "language_info": {
      "name": "python"
    }
  },
  "cells": [
    {
      "cell_type": "markdown",
      "metadata": {
        "id": "view-in-github",
        "colab_type": "text"
      },
      "source": [
        "<a href=\"https://colab.research.google.com/github/Hannibal730/NakSeo/blob/main/%EB%B0%91%EB%B0%94%EB%8B%A5_p_127~p.133.ipynb\" target=\"_parent\"><img src=\"https://colab.research.google.com/assets/colab-badge.svg\" alt=\"Open In Colab\"/></a>"
      ]
    },
    {
      "cell_type": "markdown",
      "source": [
        "# 반복문 써서 편미분 동시에 하기 p.127\n",
        "\n",
        "각 변수에 대한 편미분은 해당 변수가 변화할 때 함수의 값이 얼마나 변화하는지를 나타냅니다. 기울기 벡터는 이러한 변화율을 종합하여, 함수의 값을 가장 빠르게 변화시키는 방향을 효과적으로 보여줍니다."
      ],
      "metadata": {
        "id": "NPaLFA-0fuZI"
      }
    },
    {
      "cell_type": "code",
      "execution_count": 3,
      "metadata": {
        "colab": {
          "base_uri": "https://localhost:8080/"
        },
        "id": "xTSfy9R2Yjpi",
        "outputId": "8ffb9d25-e6cc-40f0-9580-4db2fc9f3206"
      },
      "outputs": [
        {
          "output_type": "execute_result",
          "data": {
            "text/plain": [
              "array([6., 8.])"
            ]
          },
          "metadata": {},
          "execution_count": 3
        }
      ],
      "source": [
        "# 함수정의\n",
        "def func_2(x):\n",
        "  return x[0]**2 + x[1]**2\n",
        "\n",
        "\n",
        "# 편미분\n",
        "import numpy as np\n",
        "def numerical_gradient(f,x):\n",
        "    h=1e-4\n",
        "    grad=np.zeros(x.shape)   # 여기에 인덱싱으로 채워가는 것\n",
        "\n",
        "    for idx in range(x.size):\n",
        "      tmp_val =x[idx]\n",
        "      x[idx] = tmp_val + h\n",
        "      fxh1 = f(x)\n",
        "\n",
        "      x[idx] = tmp_val - h\n",
        "      fxh2 = f(x)\n",
        "\n",
        "      grad[idx] = (fxh1 - fxh2) / (2*h)   #인덱싱한 순서의 자리에 위치한 변수로 편미분함.\n",
        "      x[idx] = tmp_val\n",
        "    return grad\n",
        "\n",
        "\n",
        "numerical_gradient(func_2,np.array([3.0,4.0]))\n",
        "\n",
        "\n"
      ]
    },
    {
      "cell_type": "markdown",
      "source": [
        "# 경사하강법 p.131"
      ],
      "metadata": {
        "id": "X2_iUFtgf6pH"
      }
    },
    {
      "cell_type": "code",
      "source": [
        "#같은 문제를 경사하강법으로써 최소값 찾아보기\n",
        "\n",
        "def gradient_descent(f,init_x,lr=0.01,step_num=100):\n",
        "  x=init_x #초기값\n",
        "  for i in range(step_num):\n",
        "    grad=numerical_gradient(f,x)\n",
        "    x-=lr*grad\n",
        "  return x\n",
        "\n",
        "init_x=np.array([-3.0,4.0])\n",
        "gradient_descent(func_2,init_x=init_x,lr=0.1,step_num=100)"
      ],
      "metadata": {
        "colab": {
          "base_uri": "https://localhost:8080/"
        },
        "id": "IM3xmuuhZP4y",
        "outputId": "c2d075cf-359d-4b31-c224-8072efb302ed"
      },
      "execution_count": 4,
      "outputs": [
        {
          "output_type": "execute_result",
          "data": {
            "text/plain": [
              "array([-6.11110793e-10,  8.14814391e-10])"
            ]
          },
          "metadata": {},
          "execution_count": 4
        }
      ]
    },
    {
      "cell_type": "markdown",
      "source": [
        "# (3,4)에서 기울기가 (6,8)이라는 것의 의미는 (3,4)에서 x0이 1만큼 커질 때 f_2는 6만큼, x1이 1만큼 커질 때 f_2는 8만큼 커진다는 뜻."
      ],
      "metadata": {
        "id": "SsyGgndomDuY"
      }
    },
    {
      "cell_type": "markdown",
      "source": [
        "# 챗지피티\n",
        "편미분으로 나온 벡터는 각 변수에 대한 편미분값으로 구성되며, 각 변수를 조금씩 변화시킬 때 함수의 값이 얼마나 변화하는지를 나타냅니다. 따라서 기울기 벡터의 방향은 각 변수를 늘리는 방향으로 함수의 값을 가장 빠르게 증가시키는 방향을 가리킵니다.\n",
        "\n",
        "최소화를 위한 기울기의 활용\n",
        "함수의 최소값을 찾기 위해서는 기울기 벡터의 반대 방향을 따라가야 합니다. 이 방향은 함수의 값을 줄이는 방향을 나타내며, 경사 하강법(gradient descent)과 같은 최적화 알고리즘에서 기본적으로 사용됩니다.\n",
        "\n",
        "기울기 벡터는 각 지점에서 함수의 값을 가장 빠르게 증가시키는 방향을 나타냅니다. 따라서 기울기는 함수의 최소값을 찾기 위해 반대 방향으로 이동하는 데 사용됩니다. 이것이 기울기가 증가하는 방향을 가리킨다는 말이었습니다."
      ],
      "metadata": {
        "id": "NNYU_YKMkaOR"
      }
    }
  ]
}