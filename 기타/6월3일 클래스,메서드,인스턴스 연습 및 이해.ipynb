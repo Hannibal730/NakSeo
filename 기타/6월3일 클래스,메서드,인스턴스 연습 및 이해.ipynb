{
 "cells": [
  {
   "cell_type": "code",
   "execution_count": 4,
   "metadata": {},
   "outputs": [
    {
     "name": "stdout",
     "output_type": "stream",
     "text": [
      "Name: Alice, Age: 30\n",
      "Name: Bob, Age: 25\n"
     ]
    }
   ],
   "source": [
    "class Person:\n",
    "    #1. 클래스 지정\n",
    "    def __init__(self, name, age):\n",
    "        #2. 생성자 지정 (생성자는 클래스의 인스턴스를 생성할 때 자동으로 호출되는 '메서드'이다.\n",
    "        #   생성자 덕분에 인스턴스 변수의 초깃값을 설정할 수 있다.)\n",
    "        #   메서드의 첫 매개변수는 'self'이다.\n",
    "        #   self는 클래스의 인스턴스를 가리킨다.\n",
    "        #   클래스로 인스턴스를 생성하고, 인스턴스가 메서드를 호출할 때, 자동으로 그 호출하는 인스턴스도 메서드에 전달된다.\n",
    "        #   이때 메서드의 self로 전달된다.\n",
    "        #3. __init__이라는 메서드의 매개변수 중 두 번째, 세 번째는 우리가 직접 전달해줘야 한다.\n",
    "        self.naame = name        #4. 객체가 데이터를 저장하려면, 객체에 객체변수를 생성시키고, 그 객체변수에 데이터를 저장해야 한다.\n",
    "                                #   객체에 객체변수를 생성시키는 방법은 객체.객체변수 이고, 그 객체변수에 데이터를 저장하는 방법은 객체.객체변수=데이터 이다.\n",
    "                                #   따라서 self.naame=name의 의미는 self라는 객체에 naame이라는 객체변수를 생성시키고, 그 객체변수에 메서드의 매개변수인 name을 저장했다는 의미이다.\n",
    "        self.aage = age \n",
    "\n",
    "    def display(self):          #5. 클래스 person의 두 번째 메서드이다.\n",
    "        print(f\"Name: {self.naame}, Age: {self.aage}\")    #우리가 위에서 쓴 표현인 self.naame에 저장된 데이터를 가져오네.\n",
    "\n",
    "# 객체 생성\n",
    "person1 = Person(\"Alice\", 30)    #6. 인스턴스 생성하면서 #3에서 말했던 메서드 __init__의 두 번째, 세 번째 매개변수를 직접 전달해주는 모습이다.\n",
    "person2 = Person(\"Bob\", 25)\n",
    "\n",
    "# 객체의 메서드 호출\n",
    "person1.display()           #7. #4는 객체에 객체를 생성시키는 의미에서 self.naame이었고,\n",
    "                            #   #7은 갹체가 메서드를 호출하는 의미에서 person1.display()이다.\n",
    "person2.display()\n"
   ]
  },
  {
   "cell_type": "code",
   "execution_count": null,
   "metadata": {},
   "outputs": [],
   "source": []
  }
 ],
 "metadata": {
  "kernelspec": {
   "display_name": "base",
   "language": "python",
   "name": "python3"
  },
  "language_info": {
   "codemirror_mode": {
    "name": "ipython",
    "version": 3
   },
   "file_extension": ".py",
   "mimetype": "text/x-python",
   "name": "python",
   "nbconvert_exporter": "python",
   "pygments_lexer": "ipython3",
   "version": "3.11.7"
  }
 },
 "nbformat": 4,
 "nbformat_minor": 2
}
