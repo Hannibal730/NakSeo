{
 "cells": [
  {
   "cell_type": "code",
   "execution_count": 23,
   "metadata": {},
   "outputs": [
    {
     "name": "stdout",
     "output_type": "stream",
     "text": [
      "4 2\n",
      "6\n",
      "2\n",
      "8\n",
      "2.0\n"
     ]
    }
   ],
   "source": [
    "# 점투파 ~p198\n",
    "# 생성자 없이 setdata라는 메소드만 있는 클래스\n",
    "# 여기서는 setdata(#,#)을 입력하지 않은 채로 a.add()라고 하면 에러가 발생한다.\n",
    "# 그 이유는 a.add()에 해당되는 객체 변수가 설정되지 않았기 때문이다.\n",
    "\n",
    "class fourcal:\n",
    "    def setdata(self,first,second):\n",
    "        self.first=first\n",
    "        self.second=second\n",
    "    def add(self):\n",
    "        return self.first+self.second\n",
    "    \n",
    "    def sub(self):\n",
    "        return self.first-self.second\n",
    "    def mul(self):\n",
    "        return self.first*self.second\n",
    "    def div(self):\n",
    "        return self.first/self.second\n",
    "    \n",
    "    \n",
    "a=fourcal()\n",
    "a.setdata(4,2)\n",
    "print(a.first,a.second)\n",
    " \n",
    "print(a.add())\n",
    "print(a.sub())\n",
    "print(a.mul())\n",
    "print(a.div())"
   ]
  },
  {
   "cell_type": "code",
   "execution_count": null,
   "metadata": {},
   "outputs": [],
   "source": []
  },
  {
   "cell_type": "code",
   "execution_count": 26,
   "metadata": {},
   "outputs": [
    {
     "name": "stdout",
     "output_type": "stream",
     "text": [
      "10 7\n",
      "17\n",
      "3\n",
      "70\n",
      "1.4285714285714286\n"
     ]
    }
   ],
   "source": [
    "# 점투파 p199\n",
    "# 하지만 생성자를 만들어두면, setdata()를 호출하지 않아도 된다.\n",
    "# 생성자를 클래스 안에 만들어두면, 해당 클래스의 객체인 인스턴스가 만들어질 때마다 생성자를 호출한다.\n",
    "# 즉 생성자를 setdata()와 같은 내용으로 만들어둔다면, 클래스에서 객체변수값을 지정해줬을 때 setdata()를 호출하지 않아도 된다.\n",
    "\n",
    "class fourcal:\n",
    "    def __init__(self,first,second):\n",
    "        self.first=first\n",
    "        self.second=second\n",
    "\n",
    "    def setdata(self,first,second):\n",
    "        self.first=first\n",
    "        self.second=second\n",
    "    def add(self):\n",
    "        return self.first+self.second\n",
    "    \n",
    "    def sub(self):\n",
    "        return self.first-self.second\n",
    "    def mul(self):\n",
    "        return self.first*self.second\n",
    "    def div(self):\n",
    "        return self.first/self.second\n",
    "    \n",
    "# 클래스의 객체인 인스턴스로써 a를 사용할 건데 그러면 a의 값인 객체변수값도 설정해야 하잖아.\n",
    "# setdata를 메서드 설정해두긴 해서\n",
    "# a=fourcal()\n",
    "# a.setdata(#,#)로 객체변수값을 지정해둘 수 있지만 이번엔 그렇게 말고\n",
    "# 생성자를 이용해서 객체변수값을 지정해보자.\n",
    "a=fourcal(10,7)\n",
    "\n",
    "print(a.first,a.second)\n",
    "\n",
    "print(a.add())\n",
    "print(a.sub())\n",
    "print(a.mul())\n",
    "print(a.div())"
   ]
  },
  {
   "cell_type": "code",
   "execution_count": null,
   "metadata": {},
   "outputs": [],
   "source": []
  }
 ],
 "metadata": {
  "kernelspec": {
   "display_name": "base",
   "language": "python",
   "name": "python3"
  },
  "language_info": {
   "codemirror_mode": {
    "name": "ipython",
    "version": 3
   },
   "file_extension": ".py",
   "mimetype": "text/x-python",
   "name": "python",
   "nbconvert_exporter": "python",
   "pygments_lexer": "ipython3",
   "version": "3.11.7"
  }
 },
 "nbformat": 4,
 "nbformat_minor": 2
}
