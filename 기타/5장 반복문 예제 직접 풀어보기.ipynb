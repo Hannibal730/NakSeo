{
 "cells": [
  {
   "cell_type": "code",
   "execution_count": null,
   "metadata": {},
   "outputs": [],
   "source": [
    "#총정리 1번 문제 직접 해보기\n",
    "# 사용자에게 주문을 받되  주문 종료 후 \"추가 주문하시겠습니까? \" 를 물어보고\n",
    "# 사용자가 Y / y 를 입력하면 주문 결과를 보여준 후 주문 창을 다시 보여주고\n",
    "# 사용자가 N / n 를 입력하면 주문 결과를 보여주고 종료하도록 코드를 작성하세요.\n",
    "#1.짜장면 - 5,000원  2.짬뽕 - 6,000원  3.군만두 - 8,000원  4.탕수육 - 10,000원 \n",
    "\n",
    "q1='y'\n",
    "while (q1=='Y' or q1=='y'):\n",
    "    menu=input('무슨 메뉴를 주문하시겠습니까? 메뉴는 짜장면, 짬뽕, 군만두, 탕수육입니다.')\n",
    "    no=int(input('몇 개를 주문하시겠습니까?'))\n",
    "    \n",
    "    if menu=='짜장면':\n",
    "        cost=no*5000\n",
    "    elif menu=='짬뽕':\n",
    "        cost=no*6000\n",
    "    elif menu=='군만두':\n",
    "        cost=no*8000\n",
    "    elif menu=='탕수육':\n",
    "        cost=no*10000\n",
    "    last='주문하신 메뉴는 %s %s그릇입니다. 가격은 %s입니다'%(menu,no,cost)\n",
    "    print(last)\n",
    "    q1=input('추가 주문하시겠습니까? y/n')\n",
    "if(q1=='N' or q1=='n'):\n",
    "    print(last) \n"
   ]
  },
  {
   "cell_type": "code",
   "execution_count": null,
   "metadata": {},
   "outputs": [],
   "source": [
    "#총정리 2번문제 직접 해보기 .\n",
    "#오답노트: 리오더 변수반복 아이디어 생각 못 해봤음\n",
    "\n",
    "# 사용자에게 주문을 받되  주문 종료 후 \"추가 주문하시겠습니까? \" 를 물어보고\n",
    "# 사용자가 Y / y 를 입력하면 주문 결과를 보여준 후 주문 창을 다시 보여주고\n",
    "# 사용자가 N / n 를 입력하면 주문 결과를 보여주고 종료하도록 코드를 작성하세요.\n",
    "# 추가 주문 횟수가 총 3회까지만 가능하고 4회부터는 추가 주문이 안되도록 작성하세요\n",
    "#1.짜장면 - 5,000원  2.짬뽕 - 6,000원  3.군만두 - 8,000원  4.탕수육 - 10,000원 \n",
    "\n",
    "\n",
    "q1='y'\n",
    "reorder=0\n",
    "\n",
    "while q1=='y' or q1=='Y':\n",
    "\n",
    "        menu=input('메뉴는 짜장면, 짬뽕, 군만두, 탕수육입니다. 뭐를 주문하시겠습니까?:')\n",
    "        no=int(input('몇 그릇 주문하시겠어요?:'))\n",
    "\n",
    "        if menu=='짜장면':\n",
    "                cost=no*5000\n",
    "        elif menu=='짬뽕':\n",
    "                cost=no*6000\n",
    "        elif menu=='군만두':\n",
    "                cost=no*8000\n",
    "        elif menu=='탕수육':\n",
    "                cost=no*10000\n",
    "                \n",
    "        last='주문하신 메뉴는 %s %s그릇입니다. 가격은 %s입니다.' %(menu,no,cost)\n",
    "        print(last)\n",
    "\n",
    "        reorder+=1\n",
    "        if reorder==4:\n",
    "                break\n",
    "        q1=input('추가주문하시겠습니까? (y/n):')\n",
    "\n",
    "if reorder==4:\n",
    "        print('죄송합니다. 추가주문은 4번까지만 가능합니다.')\n",
    "print('주문 끝 ㅅㄱ')\n"
   ]
  }
 ],
 "metadata": {
  "language_info": {
   "name": "python"
  }
 },
 "nbformat": 4,
 "nbformat_minor": 2
}
