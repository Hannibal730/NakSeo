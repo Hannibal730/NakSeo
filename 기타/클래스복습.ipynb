{
 "cells": [
  {
   "cell_type": "code",
   "execution_count": 18,
   "metadata": {},
   "outputs": [
    {
     "name": "stdout",
     "output_type": "stream",
     "text": [
      "Tom\n",
      "30\n",
      "1300\n",
      "Tom의 수비력은 300\n"
     ]
    }
   ],
   "source": [
    "class person:\n",
    "    def __init__(self, name, age):\n",
    "        self.name = name\n",
    "        self.age = age\n",
    "    def power(self,him):\n",
    "        self.him=him\n",
    "    \n",
    "    def defence(self,subee):\n",
    "        print(f'{self.name}의 수비력은 {subee}')\n",
    "        \n",
    "\n",
    "A=person('Tom',30)\n",
    "print(A.name)\n",
    "print(A.age)\n",
    "\n",
    "A.power(1300)\n",
    "print(A.him)\n",
    "\n",
    "A.defence(300)\n",
    "\n",
    "# B=person.power(654) 이건 안 되는 거임\n",
    "\n"
   ]
  },
  {
   "cell_type": "code",
   "execution_count": null,
   "metadata": {},
   "outputs": [],
   "source": []
  }
 ],
 "metadata": {
  "kernelspec": {
   "display_name": "base",
   "language": "python",
   "name": "python3"
  },
  "language_info": {
   "codemirror_mode": {
    "name": "ipython",
    "version": 3
   },
   "file_extension": ".py",
   "mimetype": "text/x-python",
   "name": "python",
   "nbconvert_exporter": "python",
   "pygments_lexer": "ipython3",
   "version": "3.11.7"
  }
 },
 "nbformat": 4,
 "nbformat_minor": 2
}
