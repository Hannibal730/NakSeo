{
 "cells": [
  {
   "cell_type": "code",
   "execution_count": 7,
   "metadata": {},
   "outputs": [
    {
     "name": "stdout",
     "output_type": "stream",
     "text": [
      "90\n"
     ]
    }
   ],
   "source": [
    "# 인스타 파이썬 퀴즈 풀어보기\n",
    "\n",
    "class A:                    #5. 부모 클래스의\n",
    "    def __init__(self):     #6. 생성자 내용은\n",
    "        self.calci(30)      #7. 여기서의 self는 클래스B의 인스턴스이다. 따라서 self.calci(30)을 호출하면 클래스B에서 메서드calci를 찾게 된다. 왜냐하면 파이썬에서는 메서드를 호출할 때 내 꺼 -> 부모꺼 순서로 찾아보기 때문이다. 메서드 오버라이딩이랑 같은 표현인 듯\n",
    "        print (self.i)      #9. self.i를 출력\n",
    "        \n",
    "    def calci(self,i):\n",
    "        self.i=2*i\n",
    "\n",
    "class B(A):                  #2. 클래스 B는\n",
    "    def __init__(self):      #3. 인스턴스를 만들 때 생성자 불러옴\n",
    "        super().__init__()   #4. 생성자 내용은 부모클래스의 생성자를 불러오는 것이었다.\n",
    "    \n",
    "    def calci(self,i):       #8. def calci의\n",
    "        self.i=3*i           #8. 내용은 self.i=3*i인데, calci의 매개변수가 30이니 i가 30이다. 고로 self.i=90 \n",
    "        \n",
    "b=B()        #1. 클래스B로 인스턴스b 생성 \n"
   ]
  },
  {
   "cell_type": "code",
   "execution_count": null,
   "metadata": {},
   "outputs": [],
   "source": []
  }
 ],
 "metadata": {
  "kernelspec": {
   "display_name": "base",
   "language": "python",
   "name": "python3"
  },
  "language_info": {
   "codemirror_mode": {
    "name": "ipython",
    "version": 3
   },
   "file_extension": ".py",
   "mimetype": "text/x-python",
   "name": "python",
   "nbconvert_exporter": "python",
   "pygments_lexer": "ipython3",
   "version": "3.11.7"
  }
 },
 "nbformat": 4,
 "nbformat_minor": 2
}
